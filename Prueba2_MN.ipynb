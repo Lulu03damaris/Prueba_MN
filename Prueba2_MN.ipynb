{
  "nbformat": 4,
  "nbformat_minor": 0,
  "metadata": {
    "colab": {
      "provenance": [],
      "authorship_tag": "ABX9TyMBmiWE3wKziWqE1+JfkZww",
      "include_colab_link": true
    },
    "kernelspec": {
      "name": "python3",
      "display_name": "Python 3"
    },
    "language_info": {
      "name": "python"
    }
  },
  "cells": [
    {
      "cell_type": "markdown",
      "metadata": {
        "id": "view-in-github",
        "colab_type": "text"
      },
      "source": [
        "<a href=\"https://colab.research.google.com/github/Lulu03damaris/Prueba_MN/blob/main/Prueba2_MN.ipynb\" target=\"_parent\"><img src=\"https://colab.research.google.com/assets/colab-badge.svg\" alt=\"Open In Colab\"/></a>"
      ]
    },
    {
      "cell_type": "code",
      "source": [
        "import numpy as np\n",
        "import matplotlib.pyplot as plt\n",
        "\n",
        "def der_parcial_0_exp(xs: list, ys: list) -> tuple[float, float, float, float]:\n",
        "    \"\"\"Retorna los coeficientes de la ecuación de la derivada parcial con respecto al parámetro 1 al reemplazar los valores `xs` y `ys`. La ecuación es de la forma:\n",
        "    c_1 * a_1 + c_0 * a_0 = c_ind\n",
        "\n",
        "    ## Parameters\n",
        "\n",
        "    `xs`: lista de valores de x.\n",
        "\n",
        "    `ys`: lista de valores de y.\n",
        "\n",
        "    ## Return\n",
        "\n",
        "    `c_2`: coeficiente del parámetro 2.\n",
        "\n",
        "    `c_1`: coeficiente del parámetro 1.\n",
        "\n",
        "    `c_0`: coeficiente del parámetro 0.\n",
        "\n",
        "    `c_ind`: coeficiente del término independiente.\n",
        "\n",
        "    \"\"\"\n",
        "    c_2 = sum(x**4 for x in xs)\n",
        "    c_1 = sum(x**3 for x in xs)\n",
        "    c_0 = sum(x**2 for x in xs)\n",
        "    c_ind = sum(y * x**2 for x, y in zip(xs, ys))\n",
        "\n",
        "    return c_2, c_1, c_0, c_ind\n",
        "\n",
        "def der_parcial_1_exp(xs: list, ys: list) -> tuple[float, float, float, float]:\n",
        "    c_2 = sum(x**3 for x in xs)\n",
        "    c_1 = sum(x**2 for x in xs)\n",
        "    c_0 = sum(xs)\n",
        "    c_ind = sum(y * x for x, y in zip(xs, ys))\n",
        "\n",
        "    return c_2, c_1, c_0, c_ind\n",
        "\n",
        "def der_parcial_2_exp(xs: list, ys: list) -> tuple[float, float, float, float]:\n",
        "    c_2 = sum(x**2 for x in xs)\n",
        "    c_1 = sum(xs)\n",
        "    c_0 = len(xs)\n",
        "    c_ind = sum(ys)\n",
        "\n",
        "    return c_2, c_1, c_0, c_ind\n",
        "\n",
        "def ajustar_min_cuadrados(xs, ys, gradientes):\n",
        "    A = []\n",
        "    b = []\n",
        "    for g in gradientes:\n",
        "        coef = g(xs, ys)\n",
        "        A.append(coef[:-1])\n",
        "        b.append(coef[-1])\n",
        "    A = np.array(A)\n",
        "    b = np.array(b)\n",
        "    params = np.linalg.solve(A, b)\n",
        "    return params\n",
        "\n",
        "def cuadratica(x: float, pars: tuple[float]) -> float:\n",
        "    a2, a1, a0 = pars\n",
        "    return a2 * x**2 + a1 * x + a0\n",
        "\n",
        "# Puntos dados\n",
        "xs2 = [\n",
        "    -5.0000,\n",
        "    -3.8889,\n",
        "    -2.7778,\n",
        "    -1.6667,\n",
        "    -0.5556,\n",
        "    0.5556,\n",
        "    1.6667,\n",
        "    2.7778,\n",
        "    3.8889,\n",
        "    5.0000,\n",
        "]\n",
        "ys2 = [\n",
        "    57.2441,\n",
        "    33.0303,\n",
        "    16.4817,\n",
        "    7.0299,\n",
        "    0.5498,\n",
        "    0.7117,\n",
        "    3.4185,\n",
        "    12.1767,\n",
        "    24.9167,\n",
        "    44.2495,\n",
        "]\n",
        "\n",
        "# Ajustar los parámetros de la cuadrática\n",
        "gradientes = [der_parcial_0_exp, der_parcial_1_exp, der_parcial_2_exp]\n",
        "pars = ajustar_min_cuadrados(xs2, ys2, gradientes)\n",
        "\n",
        "# Crear la función cuadrática ajustada\n",
        "x = np.linspace(-5, 5, 100)\n",
        "y = [cuadratica(xi, pars) for xi in x]\n",
        "\n",
        "# Graficar los puntos y la función cuadrática ajustada\n",
        "plt.scatter(xs2, ys2, label=\"Datos\")\n",
        "plt.plot(x, y, color=\"cyan\", label=r\"$ y = ax^2 + bx + c $\")\n",
        "plt.xlabel(\"x\")\n",
        "plt.ylabel(\"y\")\n",
        "plt.title(\"Ajuste por mínimos cuadrados\")\n",
        "plt.legend()\n",
        "plt.show()\n"
      ],
      "metadata": {
        "colab": {
          "base_uri": "https://localhost:8080/",
          "height": 472
        },
        "id": "ZkqAaQ0Xpcpo",
        "outputId": "2a35a596-c542-4f67-dce8-bf1b6a9f8a78"
      },
      "execution_count": null,
      "outputs": [
        {
          "output_type": "display_data",
          "data": {
            "text/plain": [
              "<Figure size 640x480 with 1 Axes>"
            ],
            "image/png": "[encoded data removed]"
          },
          "metadata": {}
        }
      ]
    },
    {
      "cell_type": "code",
      "source": [
        "def calc_determinante(A: list[list[float]]) -> float:\n",
        "    \"\"\"Función que calcula el determinante usando el método\n",
        "    de eliminación gaussiana.\n",
        "\n",
        "    ## Parameters\n",
        "    ``A``: Matriz cuadrada de tamaño n x n\n",
        "\n",
        "    ## Return\n",
        "    ``detA``: Determinante de la matriz A\n",
        "\n",
        "    \"\"\"\n",
        "    n = len(A)\n",
        "    for i in range(n):\n",
        "        # Buscar el mayor elemento en la columna i para el pivote\n",
        "        max_row = i\n",
        "        for k in range(i + 1, n):\n",
        "            if abs(A[k][i]) > abs(A[max_row][i]):\n",
        "                max_row = k\n",
        "        # Intercambiar la fila i con la fila del mayor elemento encontrado\n",
        "        A[i], A[max_row] = A[max_row], A[i]\n",
        "\n",
        "        # Si el pivote es cero, el determinante es cero\n",
        "        if A[i][i] == 0:\n",
        "            return 0\n",
        "\n",
        "        # Realizar la eliminación gaussiana\n",
        "        for k in range(i + 1, n):\n",
        "            factor = A[k][i] / A[i][i]\n",
        "            for j in range(i, n):\n",
        "                A[k][j] -= factor * A[i][j]\n",
        "\n",
        "    # Calcular el determinante como el producto de los elementos de la diagonal principal\n",
        "    detA = 1\n",
        "    for i in range(n):\n",
        "        detA *= A[i][i]\n",
        "\n",
        "    return detA\n",
        "\n",
        "# Matriz de ejemplo\n",
        "A = [\n",
        "    [-4, 2, -4, -4, 1, 2, 5, 3, 5, 1],\n",
        "    [1, 0, 4, 3, 0, -2, 3, 0, 1, 5],\n",
        "    [5, 5, -4, 5, -4, 2, 2, 2, 4, 4],\n",
        "    [-1, 3, 4, -1, -4, 0, 5, 0, 0, 5],\n",
        "    [4, 1, 4, 2, 0, 0, 3, -1, 0, 2],\n",
        "    [2, -2, 1, -1, -2, -3, 2, -2, 4, -1],\n",
        "    [3, -2, -3, -2, -1, -3, 5, -1, 5, 0],\n",
        "    [3, 4, -3, 3, -2, 2, -4, -4, 1, 5],\n",
        "    [-4, 0, 3, 3, -3, -2, -2, 0, 5, -4],\n",
        "    [-2, 4, 4, -2, -1, 1, 5, -1, 3, -3],\n",
        "]\n",
        "\n",
        "# Calcular el determinante\n",
        "detA = calc_determinante(A)\n",
        "print(f\"El determinante de la matriz A es:{detA:.9g}\")\n"
      ],
      "metadata": {
        "colab": {
          "base_uri": "https://localhost:8080/"
        },
        "id": "elUH-pw53t-s",
        "outputId": "cdf72a4f-9779-46d7-aaa3-f827fafe485d"
      },
      "execution_count": null,
      "outputs": [
        {
          "output_type": "stream",
          "name": "stdout",
          "text": [
            "El determinante de la matriz A es:9912776\n"
          ]
        }
      ]
    },
    {
      "cell_type": "code",
      "source": [
        "def calc_determinante1(A: list[list[float]]) -> float:\n",
        "    \"\"\"Función que calcula el determinante usando el método\n",
        "    de eliminación gaussiana.\n",
        "\n",
        "    ## Parameters\n",
        "    ``A``: Matriz cuadrada de tamaño n x n\n",
        "\n",
        "    ## Return\n",
        "    ``detA``: Determinante de la matriz A\n",
        "\n",
        "    \"\"\"\n",
        "    n = len(A)\n",
        "    for i in range(n):\n",
        "        # Buscar el mayor elemento en la columna i para el pivote\n",
        "        max_row = i\n",
        "        for k in range(i + 1, n):\n",
        "            if abs(A[k][i]) > abs(A[max_row][i]):\n",
        "                max_row = k\n",
        "        # Intercambiar la fila i con la fila del mayor elemento encontrado\n",
        "        A[i], A[max_row] = A[max_row], A[i]\n",
        "\n",
        "        # Si el pivote es cero, el determinante es cero\n",
        "        if A[i][i] == 0:\n",
        "            return 0\n",
        "\n",
        "        # Realizar la eliminación gaussiana\n",
        "        for k in range(i + 1, n):\n",
        "            factor = A[k][i] / A[i][i]\n",
        "            for j in range(i, n):\n",
        "                A[k][j] -= factor * A[i][j]\n",
        "\n",
        "    # Calcular el determinante como el producto de los elementos de la diagonal principal\n",
        "    detA = 1\n",
        "    for i in range(n):\n",
        "        detA *= A[i][i]\n",
        "\n",
        "    return detA\n",
        "\n",
        "# Matriz de ejemplo\n",
        "A = [\n",
        "    [2, 2, 4, 5, -2, -3, 2, -2],\n",
        "    [-1, -1, 3, 2, 1, 1, -4, 4],\n",
        "    [2, 5, -3, -3, -2, 2, 5, 3],\n",
        "    [-2, -4, 0, 1, -1, 5, -4, -1],\n",
        "    [1, -2, -1, 5, 5, 2, 1, -2],\n",
        "    [5, 4, 0, 3, 4, -1, -3, -2],\n",
        "    [4, -4, 1, 2, 3, 3, -1, 3],\n",
        "    [-2, 1, -3, 0, 5, 4, 4, -4],\n",
        "]\n",
        "\n",
        "# Calcular el determinante\n",
        "detA = calc_determinante1(A)\n",
        "print(f\"El determinante de la matriz A es:{detA:.9g}\")"
      ],
      "metadata": {
        "colab": {
          "base_uri": "https://localhost:8080/"
        },
        "id": "L_EdAPZcA8jr",
        "outputId": "30af4843-2855-4e5a-bff1-c6d4132226e2"
      },
      "execution_count": null,
      "outputs": [
        {
          "output_type": "stream",
          "name": "stdout",
          "text": [
            "El determinante de la matriz A es:2341546\n"
          ]
        }
      ]
    }
  ]
}